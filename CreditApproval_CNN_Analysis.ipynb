{
 "cells": [
  {
   "cell_type": "markdown",
   "metadata": {
    "id": "49b8aok9CZeZ"
   },
   "source": [
    "# **Credit Approval CNN Analysis: Illustrate the Step-by-Step Process of Applying Convolutional Operations**\n",
    "\n",
    "# **Created by: Preksha Shah**\n",
    "\n",
    "# **Domain: Banking**\n",
    "\n",
    "---\n",
    "\n",
    "## **Problem Statement:**\n",
    "The task is to illustrate the step-by-step process of applying convolutional operations on a dataset to predict which people are successful in applying for a credit card.\n",
    "\n",
    "---\n",
    "\n",
    "## **1. Loading and Preparing the Dataset**\n",
    "\n",
    "### **1.1 Import Necessary Libraries**\n"
   ]
  },
  {
   "cell_type": "code",
   "execution_count": 64,
   "metadata": {
    "id": "kT6lHRKaCUrE"
   },
   "outputs": [],
   "source": [
    "# Import the necessary libraries\n",
    "import tensorflow as tf\n",
    "from tensorflow.keras.models import Sequential\n",
    "from tensorflow.keras.layers import Conv1D, MaxPooling1D, Flatten, Dense, Dropout, BatchNormalization\n",
    "from tensorflow.keras.callbacks import EarlyStopping, ModelCheckpoint, ReduceLROnPlateau\n",
    "from sklearn.model_selection import train_test_split\n",
    "from sklearn.preprocessing import StandardScaler\n",
    "import pandas as pd\n",
    "import numpy as np\n",
    "import matplotlib.pyplot as plt\n",
    "import seaborn as sns"
   ]
  },
  {
   "cell_type": "markdown",
   "metadata": {
    "id": "6einVHqSVAqa"
   },
   "source": [
    "### **1.2 Load the Dataset**"
   ]
  },
  {
   "cell_type": "code",
   "execution_count": 2,
   "metadata": {
    "id": "BO_lK-yQDLl_"
   },
   "outputs": [],
   "source": [
    "# Load the dataset\n",
    "dataframe = pd.read_csv('/content/clean_dataset.csv')"
   ]
  },
  {
   "cell_type": "code",
   "execution_count": 3,
   "metadata": {
    "id": "7z8GFzZxD4j6"
   },
   "outputs": [],
   "source": [
    "# Read the dataset into a pandas DataFrame\n",
    "df = pd.read_csv('clean_dataset.csv')"
   ]
  },
  {
   "cell_type": "code",
   "execution_count": 4,
   "metadata": {
    "colab": {
     "base_uri": "https://localhost:8080/"
    },
    "id": "S_VhM_ElMtQr",
    "outputId": "1509f36d-addf-4015-99a1-b4bea18fe6d3"
   },
   "outputs": [
    {
     "name": "stdout",
     "output_type": "stream",
     "text": [
      "   Gender    Age   Debt  Married  BankCustomer     Industry Ethnicity  \\\n",
      "0       1  30.83  0.000        1             1  Industrials     White   \n",
      "1       0  58.67  4.460        1             1    Materials     Black   \n",
      "2       0  24.50  0.500        1             1    Materials     Black   \n",
      "3       1  27.83  1.540        1             1  Industrials     White   \n",
      "4       1  20.17  5.625        1             1  Industrials     White   \n",
      "\n",
      "   YearsEmployed  PriorDefault  Employed  CreditScore  DriversLicense  \\\n",
      "0           1.25             1         1            1               0   \n",
      "1           3.04             1         1            6               0   \n",
      "2           1.50             1         0            0               0   \n",
      "3           3.75             1         1            5               1   \n",
      "4           1.71             1         0            0               0   \n",
      "\n",
      "        Citizen  ZipCode  Income  Approved  \n",
      "0       ByBirth      202       0         1  \n",
      "1       ByBirth       43     560         1  \n",
      "2       ByBirth      280     824         1  \n",
      "3       ByBirth      100       3         1  \n",
      "4  ByOtherMeans      120       0         1  \n"
     ]
    }
   ],
   "source": [
    "# Display the first 5 rows of the dataset\n",
    "print(df.head())"
   ]
  },
  {
   "cell_type": "markdown",
   "metadata": {
    "id": "JjAhKKQKVEQD"
   },
   "source": [
    "## **2. Basic Data Exploration**\n",
    "\n",
    "### **2.1 Basic Data Exploration**\n"
   ]
  },
  {
   "cell_type": "code",
   "execution_count": 5,
   "metadata": {
    "colab": {
     "base_uri": "https://localhost:8080/"
    },
    "id": "yckNwhQKD7uZ",
    "outputId": "201f6ebc-2cd7-4a11-a4ce-485802faa40f"
   },
   "outputs": [
    {
     "name": "stdout",
     "output_type": "stream",
     "text": [
      "\n",
      "Dataset Info:\n",
      "<class 'pandas.core.frame.DataFrame'>\n",
      "RangeIndex: 690 entries, 0 to 689\n",
      "Data columns (total 16 columns):\n",
      " #   Column          Non-Null Count  Dtype  \n",
      "---  ------          --------------  -----  \n",
      " 0   Gender          690 non-null    int64  \n",
      " 1   Age             690 non-null    float64\n",
      " 2   Debt            690 non-null    float64\n",
      " 3   Married         690 non-null    int64  \n",
      " 4   BankCustomer    690 non-null    int64  \n",
      " 5   Industry        690 non-null    object \n",
      " 6   Ethnicity       690 non-null    object \n",
      " 7   YearsEmployed   690 non-null    float64\n",
      " 8   PriorDefault    690 non-null    int64  \n",
      " 9   Employed        690 non-null    int64  \n",
      " 10  CreditScore     690 non-null    int64  \n",
      " 11  DriversLicense  690 non-null    int64  \n",
      " 12  Citizen         690 non-null    object \n",
      " 13  ZipCode         690 non-null    int64  \n",
      " 14  Income          690 non-null    int64  \n",
      " 15  Approved        690 non-null    int64  \n",
      "dtypes: float64(3), int64(10), object(3)\n",
      "memory usage: 86.4+ KB\n",
      "None\n"
     ]
    }
   ],
   "source": [
    "# Display basic information about the dataset\n",
    "print(\"\\nDataset Info:\")\n",
    "print(df.info())"
   ]
  },
  {
   "cell_type": "markdown",
   "metadata": {
    "id": "i7F2v1m0VQww"
   },
   "source": [
    "#### **Inference:**\n",
    "\n",
    "1. **Gender**:\n",
    "   - Dataset contains gender information encoded as 0 (Female) and 1 (Male).\n",
    "\n",
    "2. **Age**:\n",
    "   - Age distribution is broad, indicating varied age groups among applicants.\n",
    "\n",
    "3. **Debt**:\n",
    "   - Debt values are scaled, providing a normalized range.\n",
    "\n",
    "4. **Married**:\n",
    "   - Marital status encoded as 0 (Single/Divorced/etc) and 1 (Married).\n",
    "\n",
    "5. **Bank Customer**:\n",
    "   - Indicates whether the applicant has a bank account, encoded as 0 or 1.\n",
    "\n",
    "6. **Industry**:\n",
    "   - Contains information on the job sector of the current or most recent job.\n",
    "\n",
    "7. **Ethnicity**:\n",
    "   - Ethnicity of the applicants.\n",
    "\n",
    "8. **Years Employed**:\n",
    "   - Years employed feature indicating the duration of employment.\n",
    "\n",
    "9. **Prior Default**:\n",
    "   - Indicates prior default status, encoded as 0 or 1.\n",
    "\n",
    "10. **Employed**:\n",
    "    - Employment status encoded as 0 (Not Employed) and 1 (Employed).\n",
    "\n",
    "## **4. Data Preprocessing**"
   ]
  },
  {
   "cell_type": "code",
   "execution_count": 6,
   "metadata": {
    "colab": {
     "base_uri": "https://localhost:8080/"
    },
    "id": "JHrrrPKcECUQ",
    "outputId": "23daedc6-123d-4145-bfaf-5d634895ab51"
   },
   "outputs": [
    {
     "name": "stdout",
     "output_type": "stream",
     "text": [
      "\n",
      "Summary Statistics:\n",
      "           Gender         Age        Debt     Married  BankCustomer  \\\n",
      "count  690.000000  690.000000  690.000000  690.000000    690.000000   \n",
      "mean     0.695652   31.514116    4.758725    0.760870      0.763768   \n",
      "std      0.460464   11.860245    4.978163    0.426862      0.425074   \n",
      "min      0.000000   13.750000    0.000000    0.000000      0.000000   \n",
      "25%      0.000000   22.670000    1.000000    1.000000      1.000000   \n",
      "50%      1.000000   28.460000    2.750000    1.000000      1.000000   \n",
      "75%      1.000000   37.707500    7.207500    1.000000      1.000000   \n",
      "max      1.000000   80.250000   28.000000    1.000000      1.000000   \n",
      "\n",
      "       YearsEmployed  PriorDefault    Employed  CreditScore  DriversLicense  \\\n",
      "count     690.000000    690.000000  690.000000    690.00000      690.000000   \n",
      "mean        2.223406      0.523188    0.427536      2.40000        0.457971   \n",
      "std         3.346513      0.499824    0.495080      4.86294        0.498592   \n",
      "min         0.000000      0.000000    0.000000      0.00000        0.000000   \n",
      "25%         0.165000      0.000000    0.000000      0.00000        0.000000   \n",
      "50%         1.000000      1.000000    0.000000      0.00000        0.000000   \n",
      "75%         2.625000      1.000000    1.000000      3.00000        1.000000   \n",
      "max        28.500000      1.000000    1.000000     67.00000        1.000000   \n",
      "\n",
      "           ZipCode         Income    Approved  \n",
      "count   690.000000     690.000000  690.000000  \n",
      "mean    180.547826    1017.385507    0.444928  \n",
      "std     173.970323    5210.102598    0.497318  \n",
      "min       0.000000       0.000000    0.000000  \n",
      "25%      60.000000       0.000000    0.000000  \n",
      "50%     160.000000       5.000000    0.000000  \n",
      "75%     272.000000     395.500000    1.000000  \n",
      "max    2000.000000  100000.000000    1.000000  \n"
     ]
    }
   ],
   "source": [
    "# Display summary statistics of the dataset\n",
    "print(\"\\nSummary Statistics:\")\n",
    "print(df.describe())"
   ]
  },
  {
   "cell_type": "markdown",
   "metadata": {
    "id": "S28yZCU3XODC"
   },
   "source": [
    "####**Inferences:**\n",
    "\n",
    "1. **Gender**:\n",
    "   - **Mean**: 0.696, indicating that approximately 70% of the dataset consists of one gender (presumably male if coded as 1).\n",
    "   - **Range**: The values are binary (0 or 1), so the data is equally distributed between genders.\n",
    "\n",
    "2. **Age**:\n",
    "   - **Mean**: 31.514 years, suggesting the average age of individuals in the dataset.\n",
    "   - **Range**: The age ranges from 13.75 to 80.25 years, with a standard deviation of 11.860, indicating a diverse age distribution.\n",
    "   - **Quartiles**: The middle 50% of individuals are between 22.67 and 37.71 years old.\n",
    "\n",
    "3. **Debt**:\n",
    "   - **Mean**: 4.759, which represents the average debt value, likely in thousands or another unit of measurement.\n",
    "   - **Range**: The debt ranges from 0 to 28, with a significant spread as indicated by the standard deviation (4.978).\n",
    "   - **Quartiles**: 25% of individuals have a debt of 1 or less, and 75% have a debt of 7.21 or less.\n",
    "\n",
    "4. **Married**:\n",
    "   - **Mean**: 0.761, suggesting that around 76% of the dataset consists of married individuals.\n",
    "   - **Range**: The values are binary (0 or 1), indicating a majority of married individuals.\n",
    "\n",
    "5. **BankCustomer**:\n",
    "   - **Mean**: 0.764, meaning about 76% of the dataset are bank customers.\n",
    "   - **Range**: The values are binary (0 or 1), showing a majority of bank customers.\n",
    "\n",
    "6. **YearsEmployed**:\n",
    "   - **Mean**: 2.223 years, indicating the average duration of employment.\n",
    "   - **Range**: Employment ranges from 0 to 28.5 years, showing variability in work experience.\n",
    "   - **Quartiles**: The middle 50% of individuals have between 0.17 and 2.63 years of employment.\n",
    "\n",
    "7. **PriorDefault**:\n",
    "   - **Mean**: 0.523, suggesting that around 52% of individuals have a history of prior default.\n",
    "   - **Range**: The values are binary (0 or 1), indicating a moderate incidence of prior defaults.\n",
    "\n",
    "8. **Employed**:\n",
    "   - **Mean**: 0.428, meaning about 43% of individuals are currently employed.\n",
    "   - **Range**: The values are binary (0 or 1), showing less than half of the individuals are employed.\n",
    "\n",
    "9. **CreditScore**:\n",
    "   - **Mean**: 2.4, indicating the average credit score, with values likely ranging from 0 to 67.\n",
    "   - **Range**: The credit score ranges from 0 to 67, with a large variability in the data.\n",
    "   - **Quartiles**: 25% of individuals have a credit score of 0, while 75% have a score of 3 or less.\n",
    "\n",
    "10. **DriversLicense**:\n",
    "    - **Mean**: 0.458, suggesting about 46% of individuals have a driver's license.\n",
    "    - **Range**: The values are binary (0 or 1), indicating a significant proportion of individuals without a license.\n",
    "\n",
    "11. **ZipCode**:\n",
    "    - **Mean**: 180.548, representing the average zip code value.\n",
    "    - **Range**: The zip code ranges from 0 to 2000, showing a broad geographical distribution.\n",
    "    - **Quartiles**: The middle 50% of zip codes fall between 60 and 272.\n",
    "\n",
    "12. **Income**:\n",
    "    - **Mean**: 1017.386, indicating the average income, with significant variation.\n",
    "    - **Range**: Income ranges from 0 to 100,000, suggesting a wide range of income levels.\n",
    "    - **Quartiles**: 25% of individuals have an income of 0, while 75% earn 395.5 or less.\n",
    "\n",
    "13. **Approved**:\n",
    "    - **Mean**: 0.445, meaning approximately 45% of individuals were approved for the credit or loan.\n",
    "    - **Range**: The values are binary (0 or 1), indicating that less than half of the individuals were approved.\n",
    "\n",
    "####**Summary**\n",
    "- The dataset contains a diverse range of ages, debts, and income levels.\n",
    "- There is a higher proportion of married and bank customers in the dataset.\n",
    "- A significant portion of the dataset has prior defaults and varying levels of employment.\n",
    "- Credit scores and income levels show substantial variability.\n",
    "- The approval rate is around 45%, suggesting a moderate rate of credit approval.\n"
   ]
  },
  {
   "cell_type": "code",
   "execution_count": 7,
   "metadata": {
    "colab": {
     "base_uri": "https://localhost:8080/"
    },
    "id": "o7U3H2uIGndw",
    "outputId": "72771ed0-524b-4c77-e001-2a3d1c5ab985"
   },
   "outputs": [
    {
     "name": "stdout",
     "output_type": "stream",
     "text": [
      "\n",
      "Missing Values:\n",
      "Gender            0\n",
      "Age               0\n",
      "Debt              0\n",
      "Married           0\n",
      "BankCustomer      0\n",
      "Industry          0\n",
      "Ethnicity         0\n",
      "YearsEmployed     0\n",
      "PriorDefault      0\n",
      "Employed          0\n",
      "CreditScore       0\n",
      "DriversLicense    0\n",
      "Citizen           0\n",
      "ZipCode           0\n",
      "Income            0\n",
      "Approved          0\n",
      "dtype: int64\n"
     ]
    }
   ],
   "source": [
    "# Check for missing values\n",
    "print(\"\\nMissing Values:\")\n",
    "print(df.isnull().sum())"
   ]
  },
  {
   "cell_type": "code",
   "execution_count": 15,
   "metadata": {
    "id": "naYuDyK9dOpi"
   },
   "outputs": [],
   "source": [
    "# Convert categorical columns to numerical format using one-hot encoding\n",
    "df_encoded = pd.get_dummies(df, columns=['Gender', 'Married', 'BankCustomer', 'Industry', 'Ethnicity', 'PriorDefault', 'Employed', 'Citizen'])\n"
   ]
  },
  {
   "cell_type": "markdown",
   "metadata": {
    "id": "bF3VIvtmWIvY"
   },
   "source": [
    "### **4.1 Split the Dataset**"
   ]
  },
  {
   "cell_type": "code",
   "execution_count": 17,
   "metadata": {
    "id": "cF95Z2kbeGBf"
   },
   "outputs": [],
   "source": [
    "# Define features (X) and labels (y)\n",
    "X = df_encoded.drop(columns=['Approved'])\n",
    "y = df_encoded['Approved']\n"
   ]
  },
  {
   "cell_type": "code",
   "execution_count": 18,
   "metadata": {
    "id": "cWUrlRdmMCPW"
   },
   "outputs": [],
   "source": [
    "# Split the data into training and testing sets\n",
    "X_train, X_test, y_train, y_test = train_test_split(X, y, test_size=0.2, random_state=42)"
   ]
  },
  {
   "cell_type": "markdown",
   "metadata": {
    "id": "Bt4c7_lkWPHs"
   },
   "source": [
    "### **4.2 Standardize the Data**"
   ]
  },
  {
   "cell_type": "code",
   "execution_count": 19,
   "metadata": {
    "id": "FACBAupteEQF"
   },
   "outputs": [],
   "source": [
    "# Standardize the data\n",
    "scaler = StandardScaler()\n",
    "X_train = scaler.fit_transform(X_train)\n",
    "X_test = scaler.transform(X_test)"
   ]
  },
  {
   "cell_type": "markdown",
   "metadata": {
    "id": "JjwxLn6oWSPC"
   },
   "source": [
    "### **4.3 Reshape the Data**"
   ]
  },
  {
   "cell_type": "code",
   "execution_count": 23,
   "metadata": {
    "id": "sQlW8syMFDHH"
   },
   "outputs": [],
   "source": [
    "# Reshape data to fit the input requirements of a CNN\n",
    "X_train = X_train.reshape(X_train.shape[0], X_train.shape[1], 1)\n",
    "X_test = X_test.reshape(X_test.shape[0], X_test.shape[1], 1)\n"
   ]
  },
  {
   "cell_type": "markdown",
   "metadata": {
    "id": "_v_UcJZXWT5J"
   },
   "source": [
    "## **5. Build the Convolutional Neural Network (CNN) Model**\n",
    "\n",
    "### **5.1 Initialize the Model and add Convolutional Layers**\n"
   ]
  },
  {
   "cell_type": "code",
   "execution_count": 79,
   "metadata": {
    "id": "-_DDHI53K1WL"
   },
   "outputs": [],
   "source": [
    "# Build the Convolutional Neural Network (CNN) Model\n",
    "model = Sequential()\n",
    "model.add(Conv1D(filters=64, kernel_size=3, activation='relu', input_shape=(X_train.shape[1], 1)))\n",
    "model.add(BatchNormalization())\n",
    "model.add(MaxPooling1D(pool_size=2))\n",
    "model.add(Dropout(0.3))\n",
    "\n",
    "model.add(Conv1D(filters=128, kernel_size=3, activation='relu'))\n",
    "model.add(BatchNormalization())\n",
    "model.add(MaxPooling1D(pool_size=2))\n",
    "model.add(Dropout(0.3))\n",
    "\n",
    "model.add(Conv1D(filters=256, kernel_size=3, activation='relu'))\n",
    "model.add(BatchNormalization())\n",
    "model.add(MaxPooling1D(pool_size=2))\n",
    "model.add(Dropout(0.3))\n",
    "\n",
    "model.add(Flatten())\n",
    "model.add(Dense(units=128, activation='relu', kernel_regularizer=tf.keras.regularizers.l2(0.001)))\n",
    "model.add(Dropout(0.5))\n",
    "model.add(Dense(units=1, activation='sigmoid'))\n"
   ]
  },
  {
   "cell_type": "markdown",
   "metadata": {
    "id": "zVbF_0alWhms"
   },
   "source": [
    "## **6. Compile the Model**"
   ]
  },
  {
   "cell_type": "code",
   "execution_count": 80,
   "metadata": {
    "id": "qG8CAhHMQz6D"
   },
   "outputs": [],
   "source": [
    "# Compile the Model\n",
    "model.compile(optimizer=tf.keras.optimizers.Adam(learning_rate=0.0005), loss='binary_crossentropy', metrics=['accuracy'])\n"
   ]
  },
  {
   "cell_type": "code",
   "execution_count": 81,
   "metadata": {
    "id": "WOLwzwUuQ2_e"
   },
   "outputs": [],
   "source": [
    "# Set up Early Stopping, Model Checkpoint, and ReduceLROnPlateau\n",
    "early_stopping = EarlyStopping(monitor='val_loss', patience=10, restore_best_weights=True)\n",
    "model_checkpoint = ModelCheckpoint('best_model.h5', save_best_only=True, monitor='val_loss')\n",
    "reduce_lr = ReduceLROnPlateau(monitor='val_loss', factor=0.2, patience=5, min_lr=0.00001)\n"
   ]
  },
  {
   "cell_type": "markdown",
   "metadata": {
    "id": "dQxn1kxIWlkm"
   },
   "source": [
    "## **7. Train the Model**"
   ]
  },
  {
   "cell_type": "code",
   "execution_count": 82,
   "metadata": {
    "colab": {
     "base_uri": "https://localhost:8080/"
    },
    "id": "1zNA4elSLPZo",
    "outputId": "cbad4356-cdfb-4b3d-d395-512e5fb31f43"
   },
   "outputs": [
    {
     "name": "stdout",
     "output_type": "stream",
     "text": [
      "Epoch 1/100\n",
      "14/14 [==============================] - 4s 46ms/step - loss: 1.2786 - accuracy: 0.5533 - val_loss: 0.8965 - val_accuracy: 0.7207 - lr: 5.0000e-04\n",
      "Epoch 2/100\n",
      "14/14 [==============================] - 0s 24ms/step - loss: 1.1046 - accuracy: 0.6236 - val_loss: 0.8796 - val_accuracy: 0.7207 - lr: 5.0000e-04\n",
      "Epoch 3/100\n",
      "14/14 [==============================] - 0s 23ms/step - loss: 0.9340 - accuracy: 0.6508 - val_loss: 0.8667 - val_accuracy: 0.7658 - lr: 5.0000e-04\n",
      "Epoch 4/100\n",
      "14/14 [==============================] - 0s 27ms/step - loss: 0.9162 - accuracy: 0.6735 - val_loss: 0.8494 - val_accuracy: 0.7568 - lr: 5.0000e-04\n",
      "Epoch 5/100\n",
      "14/14 [==============================] - 0s 24ms/step - loss: 0.8472 - accuracy: 0.7075 - val_loss: 0.8385 - val_accuracy: 0.7117 - lr: 5.0000e-04\n",
      "Epoch 6/100\n",
      "14/14 [==============================] - 0s 20ms/step - loss: 0.8715 - accuracy: 0.7052 - val_loss: 0.8551 - val_accuracy: 0.5946 - lr: 5.0000e-04\n",
      "Epoch 7/100\n",
      "14/14 [==============================] - 0s 28ms/step - loss: 0.7832 - accuracy: 0.7302 - val_loss: 0.8322 - val_accuracy: 0.6036 - lr: 5.0000e-04\n",
      "Epoch 8/100\n",
      "14/14 [==============================] - 0s 24ms/step - loss: 0.7106 - accuracy: 0.7710 - val_loss: 0.8214 - val_accuracy: 0.6126 - lr: 5.0000e-04\n",
      "Epoch 9/100\n",
      "14/14 [==============================] - 0s 19ms/step - loss: 0.6977 - accuracy: 0.7868 - val_loss: 0.8555 - val_accuracy: 0.5856 - lr: 5.0000e-04\n",
      "Epoch 10/100\n",
      "14/14 [==============================] - 0s 20ms/step - loss: 0.7078 - accuracy: 0.7619 - val_loss: 0.8527 - val_accuracy: 0.5946 - lr: 5.0000e-04\n",
      "Epoch 11/100\n",
      "14/14 [==============================] - 0s 26ms/step - loss: 0.6578 - accuracy: 0.8095 - val_loss: 0.7919 - val_accuracy: 0.6396 - lr: 5.0000e-04\n",
      "Epoch 12/100\n",
      "14/14 [==============================] - 0s 24ms/step - loss: 0.6479 - accuracy: 0.8095 - val_loss: 0.7856 - val_accuracy: 0.6306 - lr: 5.0000e-04\n",
      "Epoch 13/100\n",
      "14/14 [==============================] - 0s 20ms/step - loss: 0.6509 - accuracy: 0.8050 - val_loss: 0.8434 - val_accuracy: 0.6036 - lr: 5.0000e-04\n",
      "Epoch 14/100\n",
      "14/14 [==============================] - 0s 21ms/step - loss: 0.6225 - accuracy: 0.8141 - val_loss: 0.8881 - val_accuracy: 0.5766 - lr: 5.0000e-04\n",
      "Epoch 15/100\n",
      "14/14 [==============================] - 0s 24ms/step - loss: 0.6390 - accuracy: 0.8073 - val_loss: 0.7734 - val_accuracy: 0.6847 - lr: 5.0000e-04\n",
      "Epoch 16/100\n",
      "14/14 [==============================] - 0s 20ms/step - loss: 0.6087 - accuracy: 0.8390 - val_loss: 0.7967 - val_accuracy: 0.6667 - lr: 5.0000e-04\n",
      "Epoch 17/100\n",
      "14/14 [==============================] - 0s 24ms/step - loss: 0.5926 - accuracy: 0.8095 - val_loss: 0.7253 - val_accuracy: 0.7568 - lr: 5.0000e-04\n",
      "Epoch 18/100\n",
      "14/14 [==============================] - 0s 24ms/step - loss: 0.6532 - accuracy: 0.8118 - val_loss: 0.6973 - val_accuracy: 0.7928 - lr: 5.0000e-04\n",
      "Epoch 19/100\n",
      "14/14 [==============================] - 0s 23ms/step - loss: 0.5962 - accuracy: 0.8299 - val_loss: 0.6713 - val_accuracy: 0.7928 - lr: 5.0000e-04\n",
      "Epoch 20/100\n",
      "14/14 [==============================] - 0s 20ms/step - loss: 0.5522 - accuracy: 0.8481 - val_loss: 0.7009 - val_accuracy: 0.7838 - lr: 5.0000e-04\n",
      "Epoch 21/100\n",
      "14/14 [==============================] - 0s 21ms/step - loss: 0.5759 - accuracy: 0.8413 - val_loss: 0.6749 - val_accuracy: 0.8018 - lr: 5.0000e-04\n",
      "Epoch 22/100\n",
      "14/14 [==============================] - 0s 23ms/step - loss: 0.5287 - accuracy: 0.8571 - val_loss: 0.6650 - val_accuracy: 0.8108 - lr: 5.0000e-04\n",
      "Epoch 23/100\n",
      "14/14 [==============================] - 0s 23ms/step - loss: 0.5313 - accuracy: 0.8707 - val_loss: 0.6458 - val_accuracy: 0.8288 - lr: 5.0000e-04\n",
      "Epoch 24/100\n",
      "14/14 [==============================] - 0s 25ms/step - loss: 0.5479 - accuracy: 0.8526 - val_loss: 0.6167 - val_accuracy: 0.8468 - lr: 5.0000e-04\n",
      "Epoch 25/100\n",
      "14/14 [==============================] - 0s 23ms/step - loss: 0.5316 - accuracy: 0.8685 - val_loss: 0.6042 - val_accuracy: 0.8559 - lr: 5.0000e-04\n",
      "Epoch 26/100\n",
      "14/14 [==============================] - 0s 23ms/step - loss: 0.5225 - accuracy: 0.8549 - val_loss: 0.6024 - val_accuracy: 0.8468 - lr: 5.0000e-04\n",
      "Epoch 27/100\n",
      "14/14 [==============================] - 0s 26ms/step - loss: 0.5566 - accuracy: 0.8413 - val_loss: 0.5601 - val_accuracy: 0.8649 - lr: 5.0000e-04\n",
      "Epoch 28/100\n",
      "14/14 [==============================] - 0s 23ms/step - loss: 0.5640 - accuracy: 0.8526 - val_loss: 0.5421 - val_accuracy: 0.8739 - lr: 5.0000e-04\n",
      "Epoch 29/100\n",
      "14/14 [==============================] - 0s 20ms/step - loss: 0.5237 - accuracy: 0.8685 - val_loss: 0.5772 - val_accuracy: 0.8649 - lr: 5.0000e-04\n",
      "Epoch 30/100\n",
      "14/14 [==============================] - 0s 35ms/step - loss: 0.4615 - accuracy: 0.8934 - val_loss: 0.5758 - val_accuracy: 0.8649 - lr: 5.0000e-04\n",
      "Epoch 31/100\n",
      "14/14 [==============================] - 0s 32ms/step - loss: 0.4888 - accuracy: 0.8821 - val_loss: 0.5647 - val_accuracy: 0.8829 - lr: 5.0000e-04\n",
      "Epoch 32/100\n",
      "14/14 [==============================] - 0s 34ms/step - loss: 0.4935 - accuracy: 0.8730 - val_loss: 0.5605 - val_accuracy: 0.8829 - lr: 5.0000e-04\n",
      "Epoch 33/100\n",
      "14/14 [==============================] - 0s 32ms/step - loss: 0.5265 - accuracy: 0.8594 - val_loss: 0.5501 - val_accuracy: 0.8829 - lr: 5.0000e-04\n",
      "Epoch 34/100\n",
      "14/14 [==============================] - 0s 35ms/step - loss: 0.4936 - accuracy: 0.8685 - val_loss: 0.5511 - val_accuracy: 0.8829 - lr: 1.0000e-04\n",
      "Epoch 35/100\n",
      "14/14 [==============================] - 0s 32ms/step - loss: 0.4865 - accuracy: 0.8662 - val_loss: 0.5521 - val_accuracy: 0.8829 - lr: 1.0000e-04\n",
      "Epoch 36/100\n",
      "14/14 [==============================] - 0s 34ms/step - loss: 0.4757 - accuracy: 0.8707 - val_loss: 0.5512 - val_accuracy: 0.8829 - lr: 1.0000e-04\n",
      "Epoch 37/100\n",
      "14/14 [==============================] - 0s 21ms/step - loss: 0.4726 - accuracy: 0.8934 - val_loss: 0.5513 - val_accuracy: 0.8829 - lr: 1.0000e-04\n",
      "Epoch 38/100\n",
      "14/14 [==============================] - 0s 21ms/step - loss: 0.5280 - accuracy: 0.8549 - val_loss: 0.5477 - val_accuracy: 0.8739 - lr: 1.0000e-04\n"
     ]
    }
   ],
   "source": [
    "# Train the Model\n",
    "history = model.fit(X_train, y_train, epochs=100, batch_size=32, validation_split=0.2, callbacks=[early_stopping, model_checkpoint, reduce_lr])\n"
   ]
  },
  {
   "cell_type": "markdown",
   "metadata": {
    "id": "omnbYrR1UGml"
   },
   "source": [
    "####**Inference of the Model Training Progress:**\n",
    "\n",
    "- **Initial Epochs (1-10):**\n",
    "  - Accuracy and validation accuracy show improvement, but validation accuracy is lower than training accuracy, indicating potential overfitting.\n",
    "\n",
    "- **Mid Training (11-20):**\n",
    "  - Training accuracy improves significantly, reaching around 84.81% by epoch 20. Validation accuracy also increases, reaching about 78.38%. There is still a noticeable gap between training and validation accuracy.\n",
    "\n",
    "- **Later Epochs (21-30):**\n",
    "  - Both training and validation accuracies improve further. By epoch 30, training accuracy reaches around 89.34%, and validation accuracy is stable around 86.49%. The model shows a decreasing trend in validation loss, suggesting improved generalization.\n",
    "\n",
    "- **Recent Epochs (31-38):**\n",
    "  - Accuracy levels stabilize, with the model achieving around 88.29% accuracy consistently. Validation accuracy also hovers around 87.39%, showing strong performance and good generalization.\n",
    "\n",
    "\n",
    "## **8. Evaluate the Model**"
   ]
  },
  {
   "cell_type": "code",
   "execution_count": 83,
   "metadata": {
    "colab": {
     "base_uri": "https://localhost:8080/"
    },
    "id": "hK5kuQCTPg9O",
    "outputId": "fd0896f0-3987-4031-8cec-e460a310036f"
   },
   "outputs": [
    {
     "name": "stdout",
     "output_type": "stream",
     "text": [
      "5/5 [==============================] - 0s 5ms/step - loss: 0.6766 - accuracy: 0.8478\n",
      "Test Accuracy: 0.8478\n"
     ]
    }
   ],
   "source": [
    "# Evaluate the Model\n",
    "test_loss, test_accuracy = model.evaluate(X_test, y_test)\n",
    "print(f'Test Accuracy: {test_accuracy:.4f}')"
   ]
  },
  {
   "cell_type": "markdown",
   "metadata": {
    "id": "h3godcWcWyf-"
   },
   "source": [
    "####**Inferences:**\n",
    "The model shows steady improvement in both training and validation accuracies, with recent epochs achieving high accuracy and low loss values. The validation accuracy has stabilized around 87-88%, indicating that the model has likely reached a good balance between fit and generalization.\n",
    "\n",
    "## **9. Visualize the Training Process**"
   ]
  },
  {
   "cell_type": "code",
   "execution_count": 88,
   "metadata": {
    "colab": {
     "base_uri": "https://localhost:8080/",
     "height": 427
    },
    "id": "Gq4bW5SgSIYa",
    "outputId": "d8399d3e-0824-4f38-cc97-61596f396e90"
   },
   "outputs": [
    {
     "data": {
      "image/png": "[encoded data removed]",
      "text/plain": [
       "<Figure size 1200x400 with 2 Axes>"
      ]
     },
     "metadata": {},
     "output_type": "display_data"
    }
   ],
   "source": [
    "# Visualize the Training Process\n",
    "plt.figure(figsize=(12, 4))\n",
    "\n",
    "plt.subplot(1, 2, 1)\n",
    "plt.plot(history.history['accuracy'], label='Train Accuracy')\n",
    "plt.plot(history.history['val_accuracy'], label='Validation Accuracy')\n",
    "plt.xlabel('Epochs')\n",
    "plt.ylabel('Accuracy')\n",
    "plt.title('Accuracy over Epochs')\n",
    "plt.legend()\n",
    "\n",
    "plt.subplot(1, 2, 2)\n",
    "plt.plot(history.history['loss'], label='Train Loss')\n",
    "plt.plot(history.history['val_loss'], label='Validation Loss')\n",
    "plt.xlabel('Epochs')\n",
    "plt.ylabel('Loss')\n",
    "plt.title('Loss over Epochs')\n",
    "plt.legend()\n",
    "\n",
    "plt.tight_layout()\n",
    "plt.show()"
   ]
  },
  {
   "cell_type": "markdown",
   "metadata": {
    "id": "kEyi-6fAYnFK"
   },
   "source": [
    "### **Inferences from Training Process Visualization**\n",
    "\n",
    "**Accuracy:**\n",
    "- **Training Accuracy:** Generally increases over epochs and stabilizes, showing the model's improvement on training data.\n",
    "- **Validation Accuracy:** Should ideally follow a similar trend. If it lags significantly behind training accuracy or starts to decrease, it may indicate overfitting.\n",
    "\n",
    "**Loss:**\n",
    "- **Training Loss:** Typically decreases over time, reflecting the model's learning progress.\n",
    "- **Validation Loss:** Should also decrease. If it diverges from training loss, it could signal overfitting.\n",
    "\n",
    "**Overall:**\n",
    "- **Good Performance:** Both accuracy metrics increase and losses decrease, indicating effective learning.\n",
    "- **Overfitting:** High training accuracy with decreasing training loss but increasing validation loss suggests overfitting.\n",
    "- **Underfitting:** Low accuracy and high loss across both datasets suggest underfitting.\n",
    "\n",
    "\n",
    "---\n",
    "\n",
    "### **10. Key Achievements**\n",
    "\n",
    "1. **Successful Convolutional Model Implementation:** Demonstrated the step-by-step process of building and applying a Convolutional Neural Network (CNN) to predict credit card application success.\n",
    "\n",
    "2. **Data Preparation and Preprocessing:** Effectively handled and preprocessed a diverse dataset, including encoding categorical variables and standardizing numerical features for CNN input.\n",
    "\n",
    "3. **Model Training and Evaluation:** Achieved a high validation accuracy of approximately 87-88% with a well-balanced model, indicating strong generalization and effective learning.\n",
    "\n",
    "4. **Training Process Visualization:** Provided clear visual insights into the model's training progress, showing improvements in accuracy and reductions in loss over epochs.\n",
    "\n",
    "### **11. Conclusion**\n",
    "\n",
    "The project successfully illustrates the application of convolutional operations for predicting credit card application success. The implemented CNN model showed promising performance, with consistent improvements in both training and validation metrics. The visualizations of accuracy and loss trends validate the model's effectiveness and demonstrate its ability to generalize well to new data. This approach provides a robust foundation for predictive modeling in the banking domain using convolutional neural networks.\n",
    "\n",
    "---\n",
    "---"
   ]
  }
 ],
 "metadata": {
  "colab": {
   "provenance": []
  },
  "kernelspec": {
   "display_name": "Python 3",
   "name": "python3"
  },
  "language_info": {
   "name": "python"
  }
 },
 "nbformat": 4,
 "nbformat_minor": 0
}
